{
 "cells": [
  {
   "cell_type": "markdown",
   "metadata": {},
   "source": [
    "# Text Classification\n",
    "*Complete and hand in this completed worksheet (including its outputs and any supporting code outside of the worksheet) with your assignment submission. Please check the pdf file for more details.*\n",
    "\n",
    "In this exercise you will:\n",
    "    \n",
    "- implement a of spam classifier with **Naive Bayes method** for real world email messages\n",
    "- learn the **training and testing phase** for Naive Bayes classifier  \n",
    "- get an idea of the **precision-recall** tradeoff"
   ]
  },
  {
   "cell_type": "code",
   "execution_count": 1,
   "metadata": {},
   "outputs": [],
   "source": [
    "# some basic imports\n",
    "import numpy as np\n",
    "import matplotlib.pyplot as plt\n",
    "import scipy.sparse\n",
    "%matplotlib inline\n",
    "\n",
    "%load_ext autoreload\n",
    "%autoreload 2"
   ]
  },
  {
   "cell_type": "code",
   "execution_count": 2,
   "metadata": {},
   "outputs": [
    {
     "name": "stderr",
     "output_type": "stream",
     "text": [
      "D:\\program\\Anaconda3\\lib\\site-packages\\scipy\\sparse\\_index.py:118: SparseEfficiencyWarning: Changing the sparsity structure of a csr_matrix is expensive. lil_matrix is more efficient.\n",
      "  self._set_arrayXarray_sparse(i, j, x)\n"
     ]
    }
   ],
   "source": [
    "# ham_train contains the occurrences of each word in ham emails. 1-by-N vector\n",
    "ham_train = np.loadtxt('ham_train.csv', delimiter=',')\n",
    "# spam_train contains the occurrences of each word in spam emails. 1-by-N vector\n",
    "spam_train = np.loadtxt('spam_train.csv', delimiter=',')\n",
    "# N is the size of vocabulary.\n",
    "N = ham_train.shape[0]\n",
    "# There 9034 ham emails and 3372 spam emails in the training samples\n",
    "num_ham_train = 9034\n",
    "num_spam_train = 3372\n",
    "# Do smoothing\n",
    "x = np.vstack([ham_train, spam_train]) + 1\n",
    "\n",
    "# ham_test contains the occurences of each word in each ham test email. P-by-N vector, with P is number of ham test emails.\n",
    "i,j,ham_test = np.loadtxt('ham_test.txt').T\n",
    "i = i.astype(np.int)\n",
    "j = j.astype(np.int)\n",
    "ham_test_tight = scipy.sparse.coo_matrix((ham_test, (i - 1, j - 1)))\n",
    "ham_test = scipy.sparse.csr_matrix((ham_test_tight.shape[0], ham_train.shape[0]))\n",
    "ham_test[:, 0:ham_test_tight.shape[1]] = ham_test_tight\n",
    "# spam_test contains the occurences of each word in each spam test email. Q-by-N vector, with Q is number of spam test emails.\n",
    "i,j,spam_test = np.loadtxt('spam_test.txt').T\n",
    "i = i.astype(np.int)\n",
    "j = j.astype(np.int)\n",
    "spam_test_tight = scipy.sparse.csr_matrix((spam_test, (i - 1, j - 1)))\n",
    "spam_test = scipy.sparse.csr_matrix((spam_test_tight.shape[0], spam_train.shape[0]))\n",
    "spam_test[:, 0:spam_test_tight.shape[1]] = spam_test_tight\n"
   ]
  },
  {
   "cell_type": "markdown",
   "metadata": {},
   "source": [
    "## Now let's implement a ham/spam email classifier. Please refer to the PDF file for details"
   ]
  },
  {
   "cell_type": "code",
   "execution_count": 3,
   "metadata": {},
   "outputs": [
    {
     "data": {
      "text/plain": [
       "8.54065050718653e-07"
      ]
     },
     "execution_count": 3,
     "metadata": {},
     "output_type": "execute_result"
    }
   ],
   "source": [
    "from likelihood import likelihood\n",
    "# TODO\n",
    "# Implement a ham/spam email classifier, and calculate the accuracy of your classifier\n",
    "\n",
    "# Hint: you can directly do matrix multiply between scipy.sparse.coo_matrix and numpy.array.\n",
    "# Specifically, you can use sparse_matrix * np_array to do this. Note that when you use \"*\" operator\n",
    "# between numpy array, this is typically an elementwise multiply.\n",
    "\n",
    "# begin answer\n",
    "l = likelihood(x)\n",
    "np.min(l)"
   ]
  },
  {
   "cell_type": "code",
   "execution_count": 4,
   "metadata": {},
   "outputs": [
    {
     "name": "stdout",
     "output_type": "stream",
     "text": [
      "[30032 75525 38175 45152  9493 65397 37567 13612 56929 19956]\n",
      "nbsp\n",
      "viagra\n",
      "pills\n",
      "cialis\n",
      "voip\n",
      "php\n",
      "meds\n",
      "computron\n",
      "sex\n",
      "width\n"
     ]
    }
   ],
   "source": [
    "# List the top 10 words that are most indicative of the SPAM class\n",
    "ratio = l[1] / l[0]\n",
    "sorted_ratio_index = np.argsort(-ratio) # sort ratio \n",
    "top10_ratio_index = sorted_ratio_index[:10] # get top 10 words' index\n",
    "print(top10_ratio_index)\n",
    "f = open(\"all_word_map.txt\", 'r') \n",
    "words_map = f.readlines()\n",
    "words = [word.split('\\t')[0] for word in words_map] # get all words\n",
    "for i in top10_ratio_index:\n",
    "    # print top 10 words \n",
    "    print(words[i])\n",
    "#     print(ham_train[i], spam_train[i]) "
   ]
  },
  {
   "cell_type": "code",
   "execution_count": 5,
   "metadata": {},
   "outputs": [],
   "source": [
    "spam_size = spam_test.shape[0]\n",
    "ham_size = ham_test.shape[0]"
   ]
  },
  {
   "cell_type": "code",
   "execution_count": 6,
   "metadata": {},
   "outputs": [],
   "source": [
    "p_spam = 1.0 * num_spam_train / (num_ham_train + num_spam_train)\n",
    "p_ham = 1 - p_spam"
   ]
  },
  {
   "cell_type": "code",
   "execution_count": 7,
   "metadata": {},
   "outputs": [],
   "source": [
    "# use logarithm to avoid floating underflow problem\n",
    "l = np.log(l)\n",
    "p_ham = np.log(p_ham)\n",
    "p_spam = np.log(p_spam)"
   ]
  },
  {
   "cell_type": "code",
   "execution_count": 8,
   "metadata": {},
   "outputs": [],
   "source": [
    "postp_ham = np.zeros((ham_size, 2))\n",
    "for i in range(ham_test.shape[0]):\n",
    "    postp_ham[i, 0] = ham_test[i, :].dot(l[0].T) + p_ham # ham test's posterior probability after logarithm of ham ignoring P(x)\n",
    "    postp_ham[i, 1] = ham_test[i, :].dot(l[1].T) + p_spam # ham test's posterior probability after logarithm of spam ignoring P(x)\n",
    "postp_spam = np.zeros((spam_size, 2))\n",
    "for i in range(spam_test.shape[0]):\n",
    "    postp_spam[i, 0] = spam_test[i, :].dot(l[0].T) + p_ham # spam test's posterior probability after logarithm of ham ignoring P(x)\n",
    "    postp_spam[i, 1] = spam_test[i, :].dot(l[1].T) + p_spam # spam test's posterior probability after logarithm of spam ignoring P(x)"
   ]
  },
  {
   "cell_type": "code",
   "execution_count": 10,
   "metadata": {},
   "outputs": [],
   "source": [
    "# predict spam_test. 0 for ham, 1 for spam\n",
    "pred_spam_test = postp_spam[:, 0] < postp_spam[:, 1]\n",
    "# predict ham_test. 0 for ham, 1 for spam\n",
    "pred_ham_test = postp_ham[:, 0] < postp_ham[:, 1]"
   ]
  },
  {
   "cell_type": "code",
   "execution_count": 11,
   "metadata": {},
   "outputs": [
    {
     "name": "stdout",
     "output_type": "stream",
     "text": [
      "TP: 1073, FP: 16\n",
      "FN: 51, TN: 2995\n"
     ]
    }
   ],
   "source": [
    "# confusion matrix\n",
    "TP = sum(pred_spam_test)\n",
    "FN = spam_size - TP\n",
    "FP = sum(pred_ham_test)\n",
    "TN = ham_size - FP\n",
    "print(\"TP: {}, FP: {}\".format(TP, FP))\n",
    "print(\"FN: {}, TN: {}\".format(FN, TN))"
   ]
  },
  {
   "cell_type": "code",
   "execution_count": 12,
   "metadata": {},
   "outputs": [
    {
     "name": "stdout",
     "output_type": "stream",
     "text": [
      "accuracy: 98.38%\n",
      "precision: 98.53%\n",
      "recall: 95.46%\n"
     ]
    }
   ],
   "source": [
    "# accuracy of spam filter on the testing set\n",
    "acc = (TP + TN) / (spam_size + ham_size)\n",
    "precision = TP / (TP + FP)\n",
    "recall = TP / (TP + FN)\n",
    "print(\"accuracy: {:.2f}%\".format(acc * 100))\n",
    "print(\"precision: {:.2f}%\".format(precision * 100))\n",
    "print(\"recall: {:.2f}%\".format(recall * 100))\n",
    "\n",
    "#end answer"
   ]
  },
  {
   "cell_type": "code",
   "execution_count": null,
   "metadata": {},
   "outputs": [],
   "source": []
  }
 ],
 "metadata": {
  "kernelspec": {
   "display_name": "Python 3",
   "language": "python",
   "name": "python3"
  },
  "language_info": {
   "codemirror_mode": {
    "name": "ipython",
    "version": 3
   },
   "file_extension": ".py",
   "mimetype": "text/x-python",
   "name": "python",
   "nbconvert_exporter": "python",
   "pygments_lexer": "ipython3",
   "version": "3.7.3"
  }
 },
 "nbformat": 4,
 "nbformat_minor": 2
}
